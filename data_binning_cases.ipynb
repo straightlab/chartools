{
 "cells": [
  {
   "cell_type": "markdown",
   "metadata": {},
   "source": [
    "As pointed out by Luis, it would be nice to have a simple API to:\n",
    "- load the data so that rows are genomic intervals rather than individual RNAs. That way we would be able to work with square matrices where the rows and columns correspond to the same genomic regions\n",
    "- fetch specific regions on the rows, the columns, or both in combination (as in pairix)\n",
    "\n",
    "Here, we look at the current ways we can do that with the existing code. It would be nice to incorporated some dedicated functions in chartools. \n",
    "\n",
    "In the last section, we can see that we can load our dataset via the .pairs file directly into a cooler object. It would awesome to have a way to interconvert between pairix object and a chartable."
   ]
  },
  {
   "cell_type": "code",
   "execution_count": 17,
   "metadata": {},
   "outputs": [],
   "source": [
    "from charmodels.prepare_data.RDloader import load_RD_data\n",
    "import pandas as pd\n",
    "from chartools import charcounter as cc"
   ]
  },
  {
   "cell_type": "code",
   "execution_count": 2,
   "metadata": {},
   "outputs": [
    {
     "name": "stderr",
     "output_type": "stream",
     "text": [
      "5it [00:05,  1.16s/it]                                            \n"
     ]
    }
   ],
   "source": [
    "chardata=load_RD_data(cleaned_up=True, loadrna=False, loaddna=True, loadbkg=False, loadmodels=False)"
   ]
  },
  {
   "cell_type": "code",
   "execution_count": 93,
   "metadata": {},
   "outputs": [],
   "source": [
    "from chartools import plotter as trtools #trtools = Track Tools"
   ]
  },
  {
   "cell_type": "code",
   "execution_count": 94,
   "metadata": {
    "collapsed": true
   },
   "outputs": [],
   "source": [
    "intervals = trtools.get_intervals(['chr8','chr9','chr10'], binsize=1000000) # maybe that function exists already in bioframe?"
   ]
  },
  {
   "cell_type": "code",
   "execution_count": 95,
   "metadata": {},
   "outputs": [
    {
     "data": {
      "text/html": [
       "<div>\n",
       "<style scoped>\n",
       "    .dataframe tbody tr th:only-of-type {\n",
       "        vertical-align: middle;\n",
       "    }\n",
       "\n",
       "    .dataframe tbody tr th {\n",
       "        vertical-align: top;\n",
       "    }\n",
       "\n",
       "    .dataframe thead th {\n",
       "        text-align: right;\n",
       "    }\n",
       "</style>\n",
       "<table border=\"1\" class=\"dataframe\">\n",
       "  <thead>\n",
       "    <tr style=\"text-align: right;\">\n",
       "      <th></th>\n",
       "      <th>chr</th>\n",
       "      <th>start</th>\n",
       "      <th>stop</th>\n",
       "      <th>name</th>\n",
       "    </tr>\n",
       "  </thead>\n",
       "  <tbody>\n",
       "    <tr>\n",
       "      <th>1395</th>\n",
       "      <td>chr8</td>\n",
       "      <td>0</td>\n",
       "      <td>1000000</td>\n",
       "      <td>0</td>\n",
       "    </tr>\n",
       "    <tr>\n",
       "      <th>1396</th>\n",
       "      <td>chr8</td>\n",
       "      <td>1000000</td>\n",
       "      <td>2000000</td>\n",
       "      <td>1</td>\n",
       "    </tr>\n",
       "    <tr>\n",
       "      <th>1397</th>\n",
       "      <td>chr8</td>\n",
       "      <td>2000000</td>\n",
       "      <td>3000000</td>\n",
       "      <td>2</td>\n",
       "    </tr>\n",
       "    <tr>\n",
       "      <th>1398</th>\n",
       "      <td>chr8</td>\n",
       "      <td>3000000</td>\n",
       "      <td>4000000</td>\n",
       "      <td>3</td>\n",
       "    </tr>\n",
       "    <tr>\n",
       "      <th>1399</th>\n",
       "      <td>chr8</td>\n",
       "      <td>4000000</td>\n",
       "      <td>5000000</td>\n",
       "      <td>4</td>\n",
       "    </tr>\n",
       "    <tr>\n",
       "      <th>...</th>\n",
       "      <td>...</td>\n",
       "      <td>...</td>\n",
       "      <td>...</td>\n",
       "      <td>...</td>\n",
       "    </tr>\n",
       "    <tr>\n",
       "      <th>1809</th>\n",
       "      <td>chr10</td>\n",
       "      <td>129000000</td>\n",
       "      <td>130000000</td>\n",
       "      <td>414</td>\n",
       "    </tr>\n",
       "    <tr>\n",
       "      <th>1810</th>\n",
       "      <td>chr10</td>\n",
       "      <td>130000000</td>\n",
       "      <td>131000000</td>\n",
       "      <td>415</td>\n",
       "    </tr>\n",
       "    <tr>\n",
       "      <th>1811</th>\n",
       "      <td>chr10</td>\n",
       "      <td>131000000</td>\n",
       "      <td>132000000</td>\n",
       "      <td>416</td>\n",
       "    </tr>\n",
       "    <tr>\n",
       "      <th>1812</th>\n",
       "      <td>chr10</td>\n",
       "      <td>132000000</td>\n",
       "      <td>133000000</td>\n",
       "      <td>417</td>\n",
       "    </tr>\n",
       "    <tr>\n",
       "      <th>1813</th>\n",
       "      <td>chr10</td>\n",
       "      <td>133000000</td>\n",
       "      <td>133797422</td>\n",
       "      <td>418</td>\n",
       "    </tr>\n",
       "  </tbody>\n",
       "</table>\n",
       "<p>419 rows × 4 columns</p>\n",
       "</div>"
      ],
      "text/plain": [
       "        chr      start       stop  name\n",
       "1395   chr8          0    1000000     0\n",
       "1396   chr8    1000000    2000000     1\n",
       "1397   chr8    2000000    3000000     2\n",
       "1398   chr8    3000000    4000000     3\n",
       "1399   chr8    4000000    5000000     4\n",
       "...     ...        ...        ...   ...\n",
       "1809  chr10  129000000  130000000   414\n",
       "1810  chr10  130000000  131000000   415\n",
       "1811  chr10  131000000  132000000   416\n",
       "1812  chr10  132000000  133000000   417\n",
       "1813  chr10  133000000  133797422   418\n",
       "\n",
       "[419 rows x 4 columns]"
      ]
     },
     "execution_count": 95,
     "metadata": {},
     "output_type": "execute_result"
    }
   ],
   "source": [
    "intervals"
   ]
  },
  {
   "cell_type": "code",
   "execution_count": 18,
   "metadata": {},
   "outputs": [],
   "source": [
    "dna = chardata['dna']['ES']['all']"
   ]
  },
  {
   "cell_type": "code",
   "execution_count": 19,
   "metadata": {},
   "outputs": [],
   "source": [
    "pr = dna.df_to_shelf(intervals.sort_values(['chr','start']), feature_info_id='name')"
   ]
  },
  {
   "cell_type": "code",
   "execution_count": 21,
   "metadata": {},
   "outputs": [],
   "source": [
    "dna_binned = dna.project(pr)\n",
    "chrnat = ['chr%g'%k for k in range(1,23)]+['chrX']\n",
    "dna_binned, _ = dna_binned.reindex_chr(chrnat) #put chromosomes in natural order"
   ]
  },
  {
   "cell_type": "code",
   "execution_count": 23,
   "metadata": {},
   "outputs": [
    {
     "data": {
      "text/plain": [
       "array([  0,   0,   0,   0,   0,   0,   0,   0, 146, 285, 419, 419, 419,\n",
       "       419, 419, 419, 419, 419, 419, 419, 419, 419, 419, 419])"
      ]
     },
     "execution_count": 23,
     "metadata": {},
     "output_type": "execute_result"
    }
   ],
   "source": [
    "dna_binned.chr_blocks"
   ]
  },
  {
   "cell_type": "code",
   "execution_count": 25,
   "metadata": {},
   "outputs": [
    {
     "data": {
      "text/html": [
       "<div>\n",
       "<style scoped>\n",
       "    .dataframe tbody tr th:only-of-type {\n",
       "        vertical-align: middle;\n",
       "    }\n",
       "\n",
       "    .dataframe tbody tr th {\n",
       "        vertical-align: top;\n",
       "    }\n",
       "\n",
       "    .dataframe thead th {\n",
       "        text-align: right;\n",
       "    }\n",
       "</style>\n",
       "<table border=\"1\" class=\"dataframe\">\n",
       "  <thead>\n",
       "    <tr style=\"text-align: right;\">\n",
       "      <th></th>\n",
       "      <th>chr</th>\n",
       "      <th>start</th>\n",
       "      <th>stop</th>\n",
       "      <th>name</th>\n",
       "    </tr>\n",
       "  </thead>\n",
       "  <tbody>\n",
       "    <tr>\n",
       "      <th>1395</th>\n",
       "      <td>chr8</td>\n",
       "      <td>0</td>\n",
       "      <td>1000000</td>\n",
       "      <td>0</td>\n",
       "    </tr>\n",
       "    <tr>\n",
       "      <th>1396</th>\n",
       "      <td>chr8</td>\n",
       "      <td>1000000</td>\n",
       "      <td>2000000</td>\n",
       "      <td>1</td>\n",
       "    </tr>\n",
       "    <tr>\n",
       "      <th>1397</th>\n",
       "      <td>chr8</td>\n",
       "      <td>2000000</td>\n",
       "      <td>3000000</td>\n",
       "      <td>2</td>\n",
       "    </tr>\n",
       "    <tr>\n",
       "      <th>1398</th>\n",
       "      <td>chr8</td>\n",
       "      <td>3000000</td>\n",
       "      <td>4000000</td>\n",
       "      <td>3</td>\n",
       "    </tr>\n",
       "    <tr>\n",
       "      <th>1399</th>\n",
       "      <td>chr8</td>\n",
       "      <td>4000000</td>\n",
       "      <td>5000000</td>\n",
       "      <td>4</td>\n",
       "    </tr>\n",
       "    <tr>\n",
       "      <th>...</th>\n",
       "      <td>...</td>\n",
       "      <td>...</td>\n",
       "      <td>...</td>\n",
       "      <td>...</td>\n",
       "    </tr>\n",
       "    <tr>\n",
       "      <th>1809</th>\n",
       "      <td>chr10</td>\n",
       "      <td>129000000</td>\n",
       "      <td>130000000</td>\n",
       "      <td>414</td>\n",
       "    </tr>\n",
       "    <tr>\n",
       "      <th>1810</th>\n",
       "      <td>chr10</td>\n",
       "      <td>130000000</td>\n",
       "      <td>131000000</td>\n",
       "      <td>415</td>\n",
       "    </tr>\n",
       "    <tr>\n",
       "      <th>1811</th>\n",
       "      <td>chr10</td>\n",
       "      <td>131000000</td>\n",
       "      <td>132000000</td>\n",
       "      <td>416</td>\n",
       "    </tr>\n",
       "    <tr>\n",
       "      <th>1812</th>\n",
       "      <td>chr10</td>\n",
       "      <td>132000000</td>\n",
       "      <td>133000000</td>\n",
       "      <td>417</td>\n",
       "    </tr>\n",
       "    <tr>\n",
       "      <th>1813</th>\n",
       "      <td>chr10</td>\n",
       "      <td>133000000</td>\n",
       "      <td>133797422</td>\n",
       "      <td>418</td>\n",
       "    </tr>\n",
       "  </tbody>\n",
       "</table>\n",
       "<p>419 rows × 4 columns</p>\n",
       "</div>"
      ],
      "text/plain": [
       "        chr      start       stop  name\n",
       "1395   chr8          0    1000000     0\n",
       "1396   chr8    1000000    2000000     1\n",
       "1397   chr8    2000000    3000000     2\n",
       "1398   chr8    3000000    4000000     3\n",
       "1399   chr8    4000000    5000000     4\n",
       "...     ...        ...        ...   ...\n",
       "1809  chr10  129000000  130000000   414\n",
       "1810  chr10  130000000  131000000   415\n",
       "1811  chr10  131000000  132000000   416\n",
       "1812  chr10  132000000  133000000   417\n",
       "1813  chr10  133000000  133797422   418\n",
       "\n",
       "[419 rows x 4 columns]"
      ]
     },
     "execution_count": 25,
     "metadata": {},
     "output_type": "execute_result"
    }
   ],
   "source": [
    "intervals"
   ]
  },
  {
   "cell_type": "markdown",
   "metadata": {},
   "source": [
    "# Select columns within region"
   ]
  },
  {
   "cell_type": "markdown",
   "metadata": {},
   "source": [
    "How to select columns for chr9:1.5M to 5.5M?"
   ]
  },
  {
   "cell_type": "markdown",
   "metadata": {},
   "source": [
    "Method 1: create a new projector"
   ]
  },
  {
   "cell_type": "code",
   "execution_count": 26,
   "metadata": {
    "collapsed": true
   },
   "outputs": [],
   "source": [
    "myregion = trtools.get_intervals('chr9', start=1.5e6, stop=5.5e6, binsize=1000000)\n",
    "dna_columns_within_region,_ = dna.project(dna.df_to_shelf(myregion, feature_info_id='name')).reindex_chr(chrnat)"
   ]
  },
  {
   "cell_type": "markdown",
   "metadata": {},
   "source": [
    "Method 2: filter bins"
   ]
  },
  {
   "cell_type": "code",
   "execution_count": 32,
   "metadata": {},
   "outputs": [
    {
     "data": {
      "text/html": [
       "<div>\n",
       "<style scoped>\n",
       "    .dataframe tbody tr th:only-of-type {\n",
       "        vertical-align: middle;\n",
       "    }\n",
       "\n",
       "    .dataframe tbody tr th {\n",
       "        vertical-align: top;\n",
       "    }\n",
       "\n",
       "    .dataframe thead th {\n",
       "        text-align: right;\n",
       "    }\n",
       "</style>\n",
       "<table border=\"1\" class=\"dataframe\">\n",
       "  <thead>\n",
       "    <tr style=\"text-align: right;\">\n",
       "      <th></th>\n",
       "      <th>chr</th>\n",
       "      <th>start</th>\n",
       "      <th>stop</th>\n",
       "      <th>name</th>\n",
       "    </tr>\n",
       "  </thead>\n",
       "  <tbody>\n",
       "    <tr>\n",
       "      <th>1395</th>\n",
       "      <td>chr8</td>\n",
       "      <td>0</td>\n",
       "      <td>1000000</td>\n",
       "      <td>0</td>\n",
       "    </tr>\n",
       "    <tr>\n",
       "      <th>1396</th>\n",
       "      <td>chr8</td>\n",
       "      <td>1000000</td>\n",
       "      <td>2000000</td>\n",
       "      <td>1</td>\n",
       "    </tr>\n",
       "    <tr>\n",
       "      <th>1397</th>\n",
       "      <td>chr8</td>\n",
       "      <td>2000000</td>\n",
       "      <td>3000000</td>\n",
       "      <td>2</td>\n",
       "    </tr>\n",
       "    <tr>\n",
       "      <th>1398</th>\n",
       "      <td>chr8</td>\n",
       "      <td>3000000</td>\n",
       "      <td>4000000</td>\n",
       "      <td>3</td>\n",
       "    </tr>\n",
       "    <tr>\n",
       "      <th>1399</th>\n",
       "      <td>chr8</td>\n",
       "      <td>4000000</td>\n",
       "      <td>5000000</td>\n",
       "      <td>4</td>\n",
       "    </tr>\n",
       "  </tbody>\n",
       "</table>\n",
       "</div>"
      ],
      "text/plain": [
       "       chr    start     stop  name\n",
       "1395  chr8        0  1000000     0\n",
       "1396  chr8  1000000  2000000     1\n",
       "1397  chr8  2000000  3000000     2\n",
       "1398  chr8  3000000  4000000     3\n",
       "1399  chr8  4000000  5000000     4"
      ]
     },
     "execution_count": 32,
     "metadata": {},
     "output_type": "execute_result"
    }
   ],
   "source": [
    "intervals.head()"
   ]
  },
  {
   "cell_type": "markdown",
   "metadata": {},
   "source": [
    "We want the name of the bins within region. Note that there is some approximation as we pick only bins that completely overlap with the region of interest. "
   ]
  },
  {
   "cell_type": "code",
   "execution_count": 45,
   "metadata": {},
   "outputs": [
    {
     "data": {
      "text/html": [
       "<div>\n",
       "<style scoped>\n",
       "    .dataframe tbody tr th:only-of-type {\n",
       "        vertical-align: middle;\n",
       "    }\n",
       "\n",
       "    .dataframe tbody tr th {\n",
       "        vertical-align: top;\n",
       "    }\n",
       "\n",
       "    .dataframe thead th {\n",
       "        text-align: right;\n",
       "    }\n",
       "</style>\n",
       "<table border=\"1\" class=\"dataframe\">\n",
       "  <thead>\n",
       "    <tr style=\"text-align: right;\">\n",
       "      <th></th>\n",
       "      <th>chr</th>\n",
       "      <th>start</th>\n",
       "      <th>stop</th>\n",
       "      <th>name</th>\n",
       "    </tr>\n",
       "  </thead>\n",
       "  <tbody>\n",
       "    <tr>\n",
       "      <th>1543</th>\n",
       "      <td>chr9</td>\n",
       "      <td>2000000</td>\n",
       "      <td>3000000</td>\n",
       "      <td>148</td>\n",
       "    </tr>\n",
       "    <tr>\n",
       "      <th>1544</th>\n",
       "      <td>chr9</td>\n",
       "      <td>3000000</td>\n",
       "      <td>4000000</td>\n",
       "      <td>149</td>\n",
       "    </tr>\n",
       "    <tr>\n",
       "      <th>1545</th>\n",
       "      <td>chr9</td>\n",
       "      <td>4000000</td>\n",
       "      <td>5000000</td>\n",
       "      <td>150</td>\n",
       "    </tr>\n",
       "  </tbody>\n",
       "</table>\n",
       "</div>"
      ],
      "text/plain": [
       "       chr    start     stop  name\n",
       "1543  chr9  2000000  3000000   148\n",
       "1544  chr9  3000000  4000000   149\n",
       "1545  chr9  4000000  5000000   150"
      ]
     },
     "execution_count": 45,
     "metadata": {},
     "output_type": "execute_result"
    }
   ],
   "source": [
    "intervals_to_select = intervals.loc[(intervals['chr']=='chr9') & (intervals['start']>=1.5e6)  & (intervals['stop']<=5.5e6)]   \n",
    "intervals_to_select"
   ]
  },
  {
   "cell_type": "code",
   "execution_count": 44,
   "metadata": {
    "collapsed": true
   },
   "outputs": [],
   "source": [
    "dna_columns_within_region_v2 = dna_binned.select_bins(intervals_to_select['name'].values)"
   ]
  },
  {
   "cell_type": "markdown",
   "metadata": {},
   "source": [
    "As expected, the resulting chartable only has only 3 columns"
   ]
  },
  {
   "cell_type": "code",
   "execution_count": 97,
   "metadata": {},
   "outputs": [
    {
     "data": {
      "text/plain": [
       "<41238x3 sparse matrix of type '<class 'numpy.int64'>'\n",
       "\twith 17586 stored elements in Compressed Sparse Row format>"
      ]
     },
     "execution_count": 97,
     "metadata": {},
     "output_type": "execute_result"
    }
   ],
   "source": [
    "dna_columns_within_region_v2.counts"
   ]
  },
  {
   "cell_type": "markdown",
   "metadata": {},
   "source": [
    "We might want to make a high level function for that?"
   ]
  },
  {
   "cell_type": "markdown",
   "metadata": {},
   "source": [
    "## Select genes within regions"
   ]
  },
  {
   "cell_type": "code",
   "execution_count": 41,
   "metadata": {
    "collapsed": true
   },
   "outputs": [],
   "source": [
    "genes = chardata['genes']"
   ]
  },
  {
   "cell_type": "markdown",
   "metadata": {},
   "source": [
    "First this functions picks the genes that fall within the intervals of intersest"
   ]
  },
  {
   "cell_type": "code",
   "execution_count": 49,
   "metadata": {
    "collapsed": true
   },
   "outputs": [],
   "source": [
    "def get_genes_in_intervals(intervals):\n",
    "    genes_in_intervals = [genes.loc[(genes['chr']==chro) & (genes['stop']>=start) & (genes['start']<=stop)].index.to_list() for chro, start, stop in zip(intervals['chr'],intervals['start'], intervals['stop'])]\n",
    "    \n",
    "    \n",
    "    return genes_in_intervals"
   ]
  },
  {
   "cell_type": "code",
   "execution_count": 98,
   "metadata": {},
   "outputs": [
    {
     "data": {
      "text/html": [
       "<div>\n",
       "<style scoped>\n",
       "    .dataframe tbody tr th:only-of-type {\n",
       "        vertical-align: middle;\n",
       "    }\n",
       "\n",
       "    .dataframe tbody tr th {\n",
       "        vertical-align: top;\n",
       "    }\n",
       "\n",
       "    .dataframe thead th {\n",
       "        text-align: right;\n",
       "    }\n",
       "</style>\n",
       "<table border=\"1\" class=\"dataframe\">\n",
       "  <thead>\n",
       "    <tr style=\"text-align: right;\">\n",
       "      <th></th>\n",
       "      <th>chr</th>\n",
       "      <th>start</th>\n",
       "      <th>stop</th>\n",
       "      <th>name</th>\n",
       "    </tr>\n",
       "  </thead>\n",
       "  <tbody>\n",
       "    <tr>\n",
       "      <th>1543</th>\n",
       "      <td>chr9</td>\n",
       "      <td>2000000</td>\n",
       "      <td>3000000</td>\n",
       "      <td>148</td>\n",
       "    </tr>\n",
       "    <tr>\n",
       "      <th>1544</th>\n",
       "      <td>chr9</td>\n",
       "      <td>3000000</td>\n",
       "      <td>4000000</td>\n",
       "      <td>149</td>\n",
       "    </tr>\n",
       "    <tr>\n",
       "      <th>1545</th>\n",
       "      <td>chr9</td>\n",
       "      <td>4000000</td>\n",
       "      <td>5000000</td>\n",
       "      <td>150</td>\n",
       "    </tr>\n",
       "  </tbody>\n",
       "</table>\n",
       "</div>"
      ],
      "text/plain": [
       "       chr    start     stop  name\n",
       "1543  chr9  2000000  3000000   148\n",
       "1544  chr9  3000000  4000000   149\n",
       "1545  chr9  4000000  5000000   150"
      ]
     },
     "execution_count": 98,
     "metadata": {},
     "output_type": "execute_result"
    }
   ],
   "source": [
    "intervals_to_select"
   ]
  },
  {
   "cell_type": "code",
   "execution_count": 52,
   "metadata": {},
   "outputs": [
    {
     "data": {
      "text/plain": [
       "[['ENSG00000080503.23',\n",
       "  'ENSG00000236199.1',\n",
       "  'ENSG00000222973.1',\n",
       "  'ENSG00000264615.2',\n",
       "  'ENSG00000236404.9',\n",
       "  'ENSG00000231052.1',\n",
       "  'ENSG00000147852.15',\n",
       "  'ENSG00000168263.8',\n",
       "  'ENSG00000080608.9',\n",
       "  'ENSG00000236496.2',\n",
       "  'ENSG00000229184.2',\n",
       "  'ENSG00000227835.8'],\n",
       " ['ENSG00000227835.8',\n",
       "  'ENSG00000236511.1',\n",
       "  'ENSG00000080298.15',\n",
       "  'ENSG00000215297.3',\n",
       "  'ENSG00000232104.3',\n",
       "  'ENSG00000237359.1',\n",
       "  'ENSG00000226669.2',\n",
       "  'ENSG00000107249.22',\n",
       "  'ENSG00000236724.1',\n",
       "  'ENSG00000237009.2'],\n",
       " ['ENSG00000107249.22',\n",
       "  'ENSG00000230001.1',\n",
       "  'ENSG00000228322.1',\n",
       "  'ENSG00000200941.1',\n",
       "  'ENSG00000106688.11',\n",
       "  'ENSG00000106686.16',\n",
       "  'ENSG00000225893.1',\n",
       "  'ENSG00000205808.5',\n",
       "  'ENSG00000273061.1',\n",
       "  'ENSG00000106993.11',\n",
       "  'ENSG00000147853.16',\n",
       "  'ENSG00000270639.1',\n",
       "  'ENSG00000220105.2',\n",
       "  'ENSG00000120158.11',\n",
       "  'ENSG00000233186.2',\n",
       "  'ENSG00000199065.3',\n",
       "  'ENSG00000228165.1',\n",
       "  'ENSG00000220937.3',\n",
       "  'ENSG00000096968.13']]"
      ]
     },
     "execution_count": 52,
     "metadata": {},
     "output_type": "execute_result"
    }
   ],
   "source": [
    "get_genes_in_intervals(intervals_to_select) # returns list of list, item#i in the outer list is the list of all the genes falling into interval #i. "
   ]
  },
  {
   "cell_type": "markdown",
   "metadata": {},
   "source": [
    "Now the next function will create an accumulation matrix (transfer_matrix) to sum up the rows corresponding to each set of genes in that list. The matrix looks ok but I haven't updated annot_LUT and annot_chr (should be something like ['chr9_2000000_3000000', 'chr9_3000000_4000000', ...] and ['chr9','chr9', ...]"
   ]
  },
  {
   "cell_type": "code",
   "execution_count": 67,
   "metadata": {},
   "outputs": [],
   "source": [
    "import numpy as np\n",
    "from scipy import sparse as sp\n",
    "\n",
    "def select_rows_bygroups(data, grps, grp_names = None):\n",
    "    \n",
    "    ngrps = len(grps)\n",
    "    transfer_indptr = np.zeros(ngrps+1, int)\n",
    "    transfer_indices = np.empty([0], int)\n",
    "    \n",
    "    out=data.copy(copydata=False)\n",
    "    \n",
    "    n = 0\n",
    "\n",
    "    for i, g in enumerate(grps):\n",
    "        transfer_indptr[i] = n\n",
    "        \n",
    "        annots_ixs = np.array([data.annot_dict.get(k, -1) for k in g], dtype=int)\n",
    "        annots_ixs = np.sort(annots_ixs[annots_ixs>=0])\n",
    "        \n",
    "        \n",
    "        n_in_grp = len(annots_ixs)\n",
    "        \n",
    "        if n_in_grp>0:\n",
    "            n += n_in_grp\n",
    "            transfer_indices = np.append(transfer_indices, annots_ixs)\n",
    "        \n",
    "        transfer_indptr[i+1] = n\n",
    "    \n",
    "    transfer_data = np.ones(n, int)\n",
    "        \n",
    "    annot_select=sp.csr_matrix((transfer_data, transfer_indices, transfer_indptr), shape=(ngrps, len(data.annot_LUT)))\n",
    "    \n",
    "    \n",
    "    out.counts=(annot_select*data.counts)\n",
    "    out.counts.eliminate_zeros()\n",
    "        \n",
    "    out.annot_dict={ix:ix for ix, _ in enumerate(grps)} #right nw just indices, may implement group names\n",
    "    out.nannot=ngrps\n",
    "    out.annot_LUT=[ix for ix in range(len(grps))] #annots.copy()\n",
    "        \n",
    "        \n",
    "    out.annot_chr=[] #needs implementation\n",
    "    #genes['chr'].loc[annots].copy().map(self.chr_dict).values #annots_chr_id.copy()\n",
    "        \n",
    "    return(out)\n",
    "\n",
    "\n",
    "    "
   ]
  },
  {
   "cell_type": "markdown",
   "metadata": {},
   "source": [
    "Putting everything together"
   ]
  },
  {
   "cell_type": "code",
   "execution_count": 71,
   "metadata": {},
   "outputs": [],
   "source": [
    "data_binned_square = select_rows_bygroups(dna_columns_within_region_v2, get_genes_in_intervals(intervals_to_select))"
   ]
  },
  {
   "cell_type": "markdown",
   "metadata": {},
   "source": [
    "As expected, we get a square matrix"
   ]
  },
  {
   "cell_type": "code",
   "execution_count": 72,
   "metadata": {},
   "outputs": [
    {
     "data": {
      "text/plain": [
       "<3x3 sparse matrix of type '<class 'numpy.int64'>'\n",
       "\twith 9 stored elements in Compressed Sparse Row format>"
      ]
     },
     "execution_count": 72,
     "metadata": {},
     "output_type": "execute_result"
    }
   ],
   "source": [
    "data_binned_square.counts"
   ]
  },
  {
   "cell_type": "markdown",
   "metadata": {},
   "source": [
    "# Direct data loading with cooler"
   ]
  },
  {
   "cell_type": "markdown",
   "metadata": {},
   "source": [
    "First make cooler file. Note that we use asymetric definitions of chromosomes for RNA and DNA side. RNA preceded by R_ to make the pairix file lower triangle (R_chr.. always greater in C order that chr..)"
   ]
  },
  {
   "cell_type": "code",
   "execution_count": 76,
   "metadata": {},
   "outputs": [
    {
     "name": "stdout",
     "output_type": "stream",
     "text": [
      "chr1\t248956422\r\n",
      "chr10\t133797422\r\n",
      "chr11\t135086622\r\n",
      "chr12\t133275309\r\n",
      "chr13\t114364328\r\n",
      "chr14\t107043718\r\n",
      "chr15\t101991189\r\n",
      "chr16\t90338345\r\n",
      "chr17\t83257441\r\n",
      "chr18\t80373285\r\n",
      "chr19\t58617616\r\n",
      "chr2\t242193529\r\n",
      "chr20\t64444167\r\n",
      "chr22\t50818468\r\n",
      "chr3\t198295559\r\n",
      "chr4\t190214555\r\n",
      "chr5\t181538259\r\n",
      "chr6\t170805979\r\n",
      "chr7\t159345973\r\n",
      "chr8\t145138636\r\n",
      "chr9\t138394717\r\n",
      "chrX\t156040895\r\n",
      "R_chr1\t248956422\r\n",
      "R_chr10\t133797422\r\n",
      "R_chr11\t135086622\r\n",
      "R_chr12\t133275309\r\n",
      "R_chr13\t114364328\r\n",
      "R_chr14\t107043718\r\n",
      "R_chr15\t101991189\r\n",
      "R_chr16\t90338345\r\n",
      "R_chr17\t83257441\r\n",
      "R_chr18\t80373285\r\n",
      "R_chr19\t58617616\r\n",
      "R_chr2\t242193529\r\n",
      "R_chr20\t64444167\r\n",
      "R_chr22\t50818468\r\n",
      "R_chr3\t198295559\r\n",
      "R_chr4\t190214555\r\n",
      "R_chr5\t181538259\r\n",
      "R_chr6\t170805979\r\n",
      "R_chr7\t159345973\r\n",
      "R_chr8\t145138636\r\n",
      "R_chr9\t138394717\r\n",
      "R_chrX\t156040895\r\n"
     ]
    }
   ],
   "source": [
    "!cat /scratch/groups/astraigh/charseq_main_data/resources/chrNameLength_1-22X_withRNA.sorted.txt"
   ]
  },
  {
   "cell_type": "code",
   "execution_count": null,
   "metadata": {
    "collapsed": true
   },
   "outputs": [],
   "source": [
    "%bash\n",
    "\n",
    "cd /scratch/groups/astraigh/charseq_main_data/libraries/novchar1/NOVAseq_06-27-2019/CL_2020-05-06_rerun/data/TFONM2_ES/pairs/gencondeV29_hg38/all\n",
    "\n",
    "cooler cload pairix -p 4 /scratch/groups/astraigh/charseq_main_data/resources/chrNameLength_1-22X_withRNA.sorted.txt:1000000 /oak/stanford/groups/astraigh/differentiation_paper_data/charles/libraries/novchar1/NOVAseq_06-27-2019/CL_2020-05-06_rerun/data/TFONM2_ES/pairs/gencondeV29_hg38/all/rd.CLEAN.indexed.pairs.gz ./rd.CLEAN.1Mbp.cool\n",
    "    \n",
    "    "
   ]
  },
  {
   "cell_type": "code",
   "execution_count": 77,
   "metadata": {
    "collapsed": true
   },
   "outputs": [],
   "source": [
    "import cooler"
   ]
  },
  {
   "cell_type": "code",
   "execution_count": 82,
   "metadata": {
    "collapsed": true
   },
   "outputs": [],
   "source": [
    "filepathRD = '/scratch/groups/astraigh/charseq_main_data/libraries/novchar1/NOVAseq_06-27-2019/CL_2020-05-06_rerun/data/TFONM2_ES/pairs/gencondeV29_hg38/all/rd.CLEAN.1Mbp.cool'\n",
    "clr = cooler.Cooler(filepathRD)\n",
    "\n"
   ]
  },
  {
   "cell_type": "code",
   "execution_count": 90,
   "metadata": {},
   "outputs": [
    {
     "data": {
      "text/plain": [
       "<5994x5994 sparse matrix of type '<class 'numpy.int32'>'\n",
       "\twith 12683120 stored elements in COOrdinate format>"
      ]
     },
     "execution_count": 90,
     "metadata": {},
     "output_type": "execute_result"
    }
   ],
   "source": [
    "matRD = cRD.matrix(balance=False, sparse=True)[:]\n",
    "matRD"
   ]
  },
  {
   "cell_type": "code",
   "execution_count": 87,
   "metadata": {
    "collapsed": true
   },
   "outputs": [],
   "source": [
    "import matplotlib.pyplot as plt\n"
   ]
  },
  {
   "cell_type": "code",
   "execution_count": 89,
   "metadata": {},
   "outputs": [
    {
     "data": {
      "image/png": "[encoded data removed]",
      "text/plain": [
       "<Figure size 432x432 with 1 Axes>"
      ]
     },
     "metadata": {},
     "output_type": "display_data"
    }
   ],
   "source": [
    "%matplotlib inline\n",
    "f, axs = plt.subplots(\n",
    "    figsize=(6,6),\n",
    "    ncols=1)\n",
    "\n",
    "im = axs.matshow(\n",
    "    clr.matrix(balance=False).fetch('R_chr17', 'chr17'),\n",
    "    vmax=2500,\n",
    "    extent=(0,clr.chromsizes['R_chr17'], clr.chromsizes['chr17'], 0))"
   ]
  }
 ],
 "metadata": {
  "kernelspec": {
   "display_name": "scanpy_clean",
   "language": "python",
   "name": "scanpy_clean"
  },
  "language_info": {
   "codemirror_mode": {
    "name": "ipython",
    "version": 3
   },
   "file_extension": ".py",
   "mimetype": "text/x-python",
   "name": "python",
   "nbconvert_exporter": "python",
   "pygments_lexer": "ipython3",
   "version": "3.6.12"
  }
 },
 "nbformat": 4,
 "nbformat_minor": 2
}
